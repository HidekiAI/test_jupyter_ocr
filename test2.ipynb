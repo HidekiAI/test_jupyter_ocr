{
  "cells": [
    {
      "cell_type": "markdown",
      "metadata": {
        "id": "view-in-github",
        "colab_type": "text"
      },
      "source": [
        "<a href=\"https://colab.research.google.com/github/HidekiAI/test_jupyter_ocr/blob/main/test2.ipynb\" target=\"_parent\"><img src=\"https://colab.research.google.com/assets/colab-badge.svg\" alt=\"Open In Colab\"/></a>"
      ]
    },
    {
      "cell_type": "code",
      "execution_count": null,
      "metadata": {
        "id": "WPbsubKRrt-j"
      },
      "outputs": [],
      "source": [
        "#@title\n",
        "import cv2\n",
        "import pytesseract\n",
        "\n",
        "# Read image using OpenCV\n",
        "img_en = cv2.imread('sample_OCR_EN.png')\n",
        "\n",
        "# Convert image to grayscale\n",
        "gray_en = cv2.cvtColor(img_en, cv2.COLOR_BGR2GRAY)\n",
        "\n",
        "# Apply OCR using Tesseract\n",
        "text_en = pytesseract.image_to_string(gray_en)\n",
        "\n",
        "# Print the extracted text\n",
        "print(text_en)\n",
        "\n",
        "\n",
        "img_jp = cv2.imread('sample_OCR_JPN.png')\n",
        "gray_jp = cv2.cvtColor(img_jp, cv2.COLOR_BGR2GRAY)\n",
        "text_jp = pytesseract.image_to_string(gray_jp)\n",
        "print(text_jp)\n"
      ]
    }
  ],
  "metadata": {
    "kernelspec": {
      "display_name": "Python 3 (ipykernel)",
      "language": "python",
      "name": "python3"
    },
    "language_info": {
      "codemirror_mode": {
        "name": "ipython",
        "version": 3
      },
      "file_extension": ".py",
      "mimetype": "text/x-python",
      "name": "python",
      "nbconvert_exporter": "python",
      "pygments_lexer": "ipython3",
      "version": "3.9.2"
    },
    "colab": {
      "provenance": [],
      "toc_visible": true,
      "include_colab_link": true
    },
    "gpuClass": "standard"
  },
  "nbformat": 4,
  "nbformat_minor": 0
}